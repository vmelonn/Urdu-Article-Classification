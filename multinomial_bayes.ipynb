{
  "nbformat": 4,
  "nbformat_minor": 0,
  "metadata": {
    "colab": {
      "provenance": []
    },
    "kernelspec": {
      "name": "python3",
      "display_name": "Python 3"
    },
    "language_info": {
      "name": "python"
    }
  },
  "cells": [
    {
      "cell_type": "markdown",
      "source": [
        "**Importing Libraries**\n"
      ],
      "metadata": {
        "id": "TVgHRhjSSx7E"
      }
    },
    {
      "cell_type": "code",
      "source": [
        "\n",
        "import numpy as np\n",
        "import regex as re\n",
        "import pandas as pd\n",
        "import matplotlib.pyplot as plt\n",
        "from collections import Counter\n",
        "from sklearn.preprocessing import LabelBinarizer\n",
        "from sklearn.model_selection import train_test_split\n",
        "from sklearn.metrics import accuracy_score\n",
        "from sklearn.preprocessing import LabelEncoder\n",
        "from sklearn.feature_extraction.text import CountVectorizer\n",
        "\n"
      ],
      "metadata": {
        "id": "K48q0bpiS26p"
      },
      "execution_count": 23,
      "outputs": []
    },
    {
      "cell_type": "markdown",
      "source": [
        "\n",
        "Mounting Drive"
      ],
      "metadata": {
        "id": "yBFqr19IQx5O"
      }
    },
    {
      "cell_type": "code",
      "execution_count": 24,
      "metadata": {
        "colab": {
          "base_uri": "https://localhost:8080/"
        },
        "id": "yQkJc6yQQu3r",
        "outputId": "ef079141-75d9-4a98-b585-892a751053f0"
      },
      "outputs": [
        {
          "output_type": "stream",
          "name": "stdout",
          "text": [
            "Drive already mounted at /content/drive; to attempt to forcibly remount, call drive.mount(\"/content/drive\", force_remount=True).\n"
          ]
        }
      ],
      "source": [
        "from google.colab import drive\n",
        "drive.mount('/content/drive')"
      ]
    },
    {
      "cell_type": "markdown",
      "source": [
        "**Loading Files**\n"
      ],
      "metadata": {
        "id": "xVqeH1IQxnqe"
      }
    },
    {
      "cell_type": "code",
      "source": [
        "import pandas as pd\n",
        "\n",
        "express_files = '/content/drive/MyDrive/ML PROJECT/express_articles.csv'\n",
        "express_df = pd.read_csv(express_files)\n",
        "\n",
        "geo_files = '/content/drive/MyDrive/ML PROJECT/geo_articles.csv'\n",
        "geo_df = pd.read_csv(geo_files)\n",
        "\n",
        "jang_files = '/content/drive/MyDrive/ML PROJECT/jang_articles.csv'\n",
        "jang_df = pd.read_csv(jang_files)\n",
        "\n",
        "urdu_articles = '/content/drive/MyDrive/ML PROJECT/urdu_articles (1).csv'\n",
        "urdu_df = pd.read_csv(urdu_articles)\n",
        "\n",
        "\n"
      ],
      "metadata": {
        "id": "910vmOBmRnLp"
      },
      "execution_count": 25,
      "outputs": []
    },
    {
      "cell_type": "markdown",
      "source": [
        "**Cleaning the Data**"
      ],
      "metadata": {
        "id": "InzVN2PHTlsk"
      }
    },
    {
      "cell_type": "code",
      "source": [
        "def clean_data(df):\n",
        "    # Drop rows where 'content' or 'title' are missing\n",
        "    df = df.dropna(subset=[\"title\", \"content\"]).copy()\n",
        "\n",
        "    # Fill missing values in non-essential columns\n",
        "    df[\"link\"] = df[\"link\"].fillna(\"No Link\")\n",
        "    df[\"id\"] = df[\"id\"].fillna(-1)\n",
        "    df[\"content\"] = df[\"content\"].fillna(\"\")\n",
        "\n",
        "    # Remove duplicate articles\n",
        "    df = df.drop_duplicates(subset=[\"title\", \"content\"]).copy()\n",
        "\n",
        "    # Outlier handling - filter based on content length\n",
        "    df = df[df[\"content\"].apply(len) > 50].copy()\n",
        "\n",
        "    # Reset the index\n",
        "    df = df.reset_index(drop=True)\n",
        "\n",
        "    return df\n",
        "\n",
        "\n",
        "\n",
        "# Apply the cleaning function\n",
        "cleaned_df = clean_data(urdu_df)\n",
        "\n",
        "# Check for duplicates\n",
        "duplicates_count = cleaned_df.duplicated(subset=[\"title\", \"content\"]).sum()\n",
        "print(\"Number of duplicates:\", duplicates_count)\n",
        "\n",
        "# Check minimum content length\n",
        "min_length = cleaned_df[\"content\"].apply(len).min()\n",
        "print(\"Minimum content length:\", min_length)\n",
        "\n",
        "# Additional checks\n",
        "max_length = cleaned_df[\"content\"].apply(len).max()\n",
        "unique_titles = cleaned_df[\"title\"].nunique()\n",
        "print(\"Maximum content length:\", max_length)\n",
        "print(\"Number of unique titles:\", unique_titles)\n",
        "print(\"\\n\")\n",
        "\n",
        "# Preview cleaned data\n",
        "print(cleaned_df.head())"
      ],
      "metadata": {
        "colab": {
          "base_uri": "https://localhost:8080/"
        },
        "id": "dDXhXpZ-TnpH",
        "outputId": "c2eccf68-029d-4308-ff7d-196ddaef6093"
      },
      "execution_count": 26,
      "outputs": [
        {
          "output_type": "stream",
          "name": "stdout",
          "text": [
            "Number of duplicates: 0\n",
            "Minimum content length: 92\n",
            "Maximum content length: 7596\n",
            "Number of unique titles: 1133\n",
            "\n",
            "\n",
            "   id                                              title  \\\n",
            "0   0  ’’میرے پاس وقت نہیں...‘‘ ارجن سے علیحدگی کے بع...   \n",
            "1   1  اداکارہ نرگس نے ساتھی فنکارہ کے خلاف ایف آئی ...   \n",
            "2   2  اکشے کمار کی نئی کامیڈی فلم ’ہاؤس فل 5‘ کی شوٹ...   \n",
            "3   3  عامر خان کے مشورے پر 'لاہور 1947' میں جذباتی م...   \n",
            "4   4  راشمیکا مندانا کا فلم \"پشپا 2\" کے سیٹ کو جذبات...   \n",
            "\n",
            "                                                link  \\\n",
            "0  https://www.express.pk/story/2735281/malaika-a...   \n",
            "1  https://www.express.pk/story/2735225/adakarah-...   \n",
            "2  https://www.express.pk/story/2735209/akshaykum...   \n",
            "3  https://www.express.pk/story/2735208/amirkhan-...   \n",
            "4  https://www.express.pk/story/2735207/rashmika-...   \n",
            "\n",
            "                                             content     gold_label  \n",
            "0  بھارتی اداکارہ ملائیکہ اروڑا نے ارجن کپور کے س...  entertainment  \n",
            "1  اسٹیج اداکارہ نرگس نے ساتھی فنکارہ کے خلاف ایف...  entertainment  \n",
            "2  ممبئی: بھارت کی مشہور کامیڈی فلم سیریز ہاؤس فل...  entertainment  \n",
            "3  ممبئی: سنی دیول اپنی نئی فلم لاہور 1947 کی اضا...  entertainment  \n",
            "4  ممبئی : مقبول اداکارہ راشمیکا مندانا نے اپنی آ...  entertainment  \n"
          ]
        }
      ]
    },
    {
      "cell_type": "markdown",
      "source": [
        "**Tokenization and using n-gram feature extraction with bag of words**"
      ],
      "metadata": {
        "id": "wi4Xb0HdVBMy"
      }
    },
    {
      "cell_type": "code",
      "source": [
        "# Installing urduhack to use for tokenization\n",
        "#%pip install urduhack\n",
        "\n",
        "#%pip install tensorflow"
      ],
      "metadata": {
        "id": "viH1gWTTVIKH"
      },
      "execution_count": 27,
      "outputs": []
    },
    {
      "cell_type": "code",
      "source": [
        "def tokenize_text(text):\n",
        "    # Convert to lowercase\n",
        "    text = text.lower()\n",
        "    # Tokenize\n",
        "    tokens = re.findall(r\"\\w+\", text)\n",
        "    return tokens\n",
        "\n",
        "def generate_ngrams(tokens, n):\n",
        "    ngrams = []\n",
        "    for i in range(len(tokens) - n + 1):\n",
        "        ngram = tuple(tokens[i:i + n])\n",
        "        ngrams.append(ngram)\n",
        "    return ngrams\n",
        "\n",
        "def create_ngram_bow(text_series, n=2):\n",
        "    ngram_counts = Counter()  # To count n-grams\n",
        "\n",
        "    for text in text_series:\n",
        "        tokens = tokenize_text(text)  # Tokenize the text\n",
        "        ngrams = generate_ngrams(tokens, n)  # Generate n-grams\n",
        "        ngram_counts.update(ngrams)  # Count n-grams\n",
        "\n",
        "    # Create the feature names from the n-grams\n",
        "    feature_names = [' '.join(ngram) for ngram in ngram_counts.keys()]\n",
        "\n",
        "    # Create the feature matrix\n",
        "    feature_matrix = np.zeros((len(text_series), len(feature_names)), dtype=int)\n",
        "\n",
        "    # Fill in the feature matrix\n",
        "    for doc_index, text in enumerate(text_series):\n",
        "        tokens = tokenize_text(text)\n",
        "        ngrams = generate_ngrams(tokens, n)\n",
        "        ngram_counter = Counter(ngrams)\n",
        "\n",
        "        for ngram, count in ngram_counter.items():\n",
        "            if ngram in ngram_counts:\n",
        "                feature_matrix[doc_index, feature_names.index(' '.join(ngram))] = count\n",
        "\n",
        "    return feature_matrix, feature_names\n"
      ],
      "metadata": {
        "id": "PI2JtMpvZQHs"
      },
      "execution_count": 28,
      "outputs": []
    },
    {
      "cell_type": "markdown",
      "source": [
        "creating fearure matrix for both title and content"
      ],
      "metadata": {
        "id": "DjHmu2eRzUwa"
      }
    },
    {
      "cell_type": "code",
      "source": [
        "X_title, title_features = create_ngram_bow(cleaned_df['title'], n=2)  # Bigrams\n",
        "X_content, content_features = create_ngram_bow(cleaned_df['content'], n=2)\n",
        "\n",
        "# Combining the two feature matrices\n",
        "X_combined = np.hstack((X_title, X_content))"
      ],
      "metadata": {
        "id": "oCUB9i5Mlbhs"
      },
      "execution_count": 30,
      "outputs": []
    },
    {
      "cell_type": "markdown",
      "source": [
        "Encoding y labels"
      ],
      "metadata": {
        "id": "mpKSPW7nzadu"
      }
    },
    {
      "cell_type": "code",
      "source": [
        "\n",
        "labels = cleaned_df[\"gold_label\"].unique()  # Get unique labels\n",
        "label_to_id = {category: idx for idx, category in enumerate(labels)}\n",
        "\n",
        "# Encode labels\n",
        "y = cleaned_df[\"gold_label\"].map(label_to_id).values\n"
      ],
      "metadata": {
        "id": "EgY2AdxwV5hg"
      },
      "execution_count": 31,
      "outputs": []
    },
    {
      "cell_type": "markdown",
      "source": [
        "Peforming Train/Test split"
      ],
      "metadata": {
        "id": "ct8btKXJzfFM"
      }
    },
    {
      "cell_type": "code",
      "source": [
        "from sklearn.model_selection import train_test_split\n",
        "X_train, X_test, y_train, y_test = train_test_split(X_combined, y, test_size=0.2, random_state=42)"
      ],
      "metadata": {
        "id": "pnSoMXlzW9c3"
      },
      "execution_count": 32,
      "outputs": []
    },
    {
      "cell_type": "markdown",
      "source": [
        "Multinomial Bayes Model implementation"
      ],
      "metadata": {
        "id": "SJ-A8Xq3zif2"
      }
    },
    {
      "cell_type": "code",
      "source": [
        "\n",
        "class MultinomialNaiveBayes:\n",
        "    def __init__(self):\n",
        "        self.class_priors = {}  # log probabilities of each label\n",
        "        self.word_likelihoods = {}  # log probabilities for each word for each label\n",
        "        self.vocab_size = 0  # number of unique words across dataset\n",
        "\n",
        "\n",
        "\n",
        "    def fit(self, X, y , alpha=1):\n",
        "\n",
        "        num_samples = len(y)\n",
        "\n",
        "        # Get unique labels and their counts\n",
        "        labels, label_counts = np.unique(y, return_counts=True)\n",
        "\n",
        "        # Calculate class priors: P(c)\n",
        "        for cls, count in zip(labels, label_counts):\n",
        "            self.class_priors[cls] = np.log(count / num_samples)  # Take log of probabilities\n",
        "\n",
        "        self.word_likelihoods = {cls: np.zeros(X.shape[1]) for cls in labels}\n",
        "        total_words_per_class = {cls: 0 for cls in labels}  # To keep total word counts for each class/label\n",
        "\n",
        "        # Count occurrences of each word per class/label\n",
        "        for i in range(num_samples):\n",
        "            cls = y[i]\n",
        "            total_words_per_class[cls] += np.sum(X[i])  # Total words in this class\n",
        "            self.word_likelihoods[cls] += X[i]  # Sum the word counts for the class\n",
        "\n",
        "        # Apply Laplace smoothing\n",
        "        for cls in labels:\n",
        "          # Total count of words in class c\n",
        "          total_count = total_words_per_class[cls]\n",
        "          smoothed_word_counts = self.word_likelihoods[cls] + alpha  # Add 'alpha' for each word in vocabulary to avoid zero probabilities\n",
        "\n",
        "          # Apply Lidstone smoothing formula\n",
        "          self.word_likelihoods[cls] = smoothed_word_counts / (total_count + alpha * self.vocab_size)\n",
        "\n",
        "        # Take Log of word likelihoods\n",
        "        for cls in labels:\n",
        "            self.word_likelihoods[cls] = np.log(self.word_likelihoods[cls])\n",
        "\n",
        "        self.vocab_size = X.shape[1]  # Number of unique words\n",
        "\n",
        "    def predict(self, X):\n",
        "        predictions = []\n",
        "        for i in range(X.shape[0]):\n",
        "            log_probs = {}\n",
        "            for cls in self.class_priors.keys():\n",
        "                log_probs[cls] = self.class_priors[cls] + np.sum(X[i] * self.word_likelihoods[cls]) # Calculate log probability for each class\n",
        "\n",
        "            predictions.append(max(log_probs, key=log_probs.get))   # Get the class with the highest log probability -> gold_label\n",
        "\n",
        "        return np.array(predictions)\n",
        "\n",
        "\n",
        "\n",
        ""
      ],
      "metadata": {
        "id": "uIp5UCkdX8bx"
      },
      "execution_count": 47,
      "outputs": []
    },
    {
      "cell_type": "markdown",
      "source": [
        "Training model and applying it to test data"
      ],
      "metadata": {
        "id": "DcmDak132X24"
      }
    },
    {
      "cell_type": "code",
      "source": [
        "\n",
        "mnb_model = MultinomialNaiveBayes()\n",
        "mnb_model.fit(X_train, y_train,0.01) # alpha set to 0.01 -> best alpha chosen after hyperparameter tuning\n",
        "predictions = mnb_model.predict(X_test)\n",
        "\n",
        "\n",
        "\n"
      ],
      "metadata": {
        "id": "U0Y2g6uiYaO6"
      },
      "execution_count": 48,
      "outputs": []
    },
    {
      "cell_type": "markdown",
      "source": [
        "Metrics for Test Data"
      ],
      "metadata": {
        "id": "vnVrixP22iSX"
      }
    },
    {
      "cell_type": "code",
      "source": [
        "# metrics TEST\n",
        "from sklearn.metrics import accuracy_score, precision_score, recall_score, f1_score, confusion_matrix\n",
        "\n",
        "accuracy = accuracy_score(y_test, predictions)\n",
        "precision = precision_score(y_test, predictions, average='weighted')\n",
        "recall = recall_score(y_test, predictions , average='weighted')\n",
        "f1 = f1_score(y_test, predictions , average='weighted')\n",
        "\n",
        "print(\" \\nMETRICS FOR TEST SET :\")\n",
        "print(\"Accuracy: {:.2f}%\".format(accuracy * 100))\n",
        "print(\"Precision: {:.2f}\".format(precision))\n",
        "print(\"Recall: {:.2f}\".format(recall))\n",
        "print(\"F1 Score: {:.2f}\".format(f1))"
      ],
      "metadata": {
        "colab": {
          "base_uri": "https://localhost:8080/"
        },
        "id": "aRE8uZRYZQ1z",
        "outputId": "62f62506-b067-403e-dbf9-e157983f3c4e"
      },
      "execution_count": 49,
      "outputs": [
        {
          "output_type": "stream",
          "name": "stdout",
          "text": [
            " \n",
            "METRICS FOR TEST SET :\n",
            "Accuracy: 95.59%\n",
            "Precision: 0.96\n",
            "Recall: 0.96\n",
            "F1 Score: 0.96\n"
          ]
        }
      ]
    },
    {
      "cell_type": "markdown",
      "source": [
        "Plotting Confusion Matrix"
      ],
      "metadata": {
        "id": "k3YjK9KQ5Ty0"
      }
    },
    {
      "cell_type": "code",
      "source": [
        "import seaborn as sns\n",
        "\n",
        "class_names = ['Entertainment' , 'Business' , 'Sports' , 'Science_Technology' , 'International']\n",
        "conf_matrix = confusion_matrix(y_test, predictions)\n",
        "sns.heatmap(conf_matrix, annot=True, fmt='d', cmap='Blues', xticklabels=class_names, yticklabels=class_names)\n",
        "plt.xlabel('Predicted')\n",
        "plt.ylabel('True')\n",
        "plt.title('Confusion Matrix')\n",
        "plt.show()"
      ],
      "metadata": {
        "colab": {
          "base_uri": "https://localhost:8080/",
          "height": 596
        },
        "id": "Ffk26isx3mGN",
        "outputId": "ddce62b0-55a0-414c-97c8-d2d333c05aa3"
      },
      "execution_count": 50,
      "outputs": [
        {
          "output_type": "display_data",
          "data": {
            "text/plain": [
              "<Figure size 640x480 with 2 Axes>"
            ],
            "image/png": "[encoded data removed]"
          },
          "metadata": {}
        }
      ]
    }
  ]
}